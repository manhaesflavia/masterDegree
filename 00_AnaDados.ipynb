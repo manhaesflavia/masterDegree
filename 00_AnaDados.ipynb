{
 "cells": [
  {
   "cell_type": "markdown",
   "id": "3487eb1d",
   "metadata": {},
   "source": [
    "### Bibliotecas utilizadas"
   ]
  },
  {
   "cell_type": "code",
   "execution_count": 125,
   "id": "9f636fc3",
   "metadata": {},
   "outputs": [],
   "source": [
    "#!pip install hydrobr\n",
    "import pandas as pd\n",
    "#!pip install geopandas\n",
    "import matplotlib.pyplot as plt\n",
    "import geopandas as gpd"
   ]
  },
  {
   "cell_type": "markdown",
   "id": "cf82f502",
   "metadata": {},
   "source": [
    "#### Explorando o help da biblioteca hydrobr para acesso aos dados das estações\n"
   ]
  },
  {
   "cell_type": "code",
   "execution_count": 156,
   "id": "8856ff48",
   "metadata": {},
   "outputs": [
    {
     "name": "stdout",
     "output_type": "stream",
     "text": [
      "Help on class ANA in module hydrobr.get_data:\n",
      "\n",
      "class ANA(builtins.object)\n",
      " |  It provides a connection with the Brazilian National Water Agency (Agência Nacional de Águas - ANA) database\n",
      " |  \n",
      " |  Static methods defined here:\n",
      " |  \n",
      " |  flow(list_station, only_consisted=False, threads=10)\n",
      " |      Get the flow station data series from a list of stations code of the Brazilian National Water Agency\n",
      " |      (ANA) database.\n",
      " |      Parameters\n",
      " |      ----------\n",
      " |      list_station : list of strings\n",
      " |          A list of with the stations code as strings.\n",
      " |      only_consisted : boolean, default False\n",
      " |          If True, returns only the data classified as consistent by the provider.\n",
      " |      threads: int\n",
      " |          Number of parallel requisitions\n",
      " |      Returns\n",
      " |      -------\n",
      " |      data_stations : pandas DataFrame\n",
      " |          The data os each station as a column in a pandas DataFrame\n",
      " |  \n",
      " |  flow_data(list_station, only_consisted=False)\n",
      " |  \n",
      " |  list_flow(state='', city='', source='ANAF')\n",
      " |      Searches for flow/stage stations registered at the Brazilian National Agency of Water inventory.\n",
      " |      Parameters\n",
      " |      ----------\n",
      " |      state : string\n",
      " |          Brazilian state name where the stations are located (e.g., Rio de Janeiro)\n",
      " |      city : string\n",
      " |          Brazilian city name where the stations are located (e.g., Rio de Itaperuna)\n",
      " |      source: string, default 'ANAF'\n",
      " |          The source to look for the data. 'ANA' to get the list of stations from the Brazilian National Water Agency\n",
      " |          (ANA) database, or 'ANAF' to get the filtered list of stations that contain only the stations from ANA\n",
      " |          with registered data.\n",
      " |          More information about ANAF: https://doi.org/10.5281/zenodo.3755065\n",
      " |      Returns\n",
      " |      -------\n",
      " |      list_stations : pandas DataFrame\n",
      " |          The selected list of stations as a pandas DataFrame\n",
      " |  \n",
      " |  list_flow_stations(state='', city='', source='ANAF')\n",
      " |  \n",
      " |  list_prec(state='', city='', source='ANAF')\n",
      " |      Searches for precipitation stations registered at the Brazilian National Agency of Water (ANA)\n",
      " |      Parameters\n",
      " |      ----------\n",
      " |      state : string\n",
      " |          Brazilian state name where the stations are located (e.g., Rio de Janeiro)\n",
      " |      city : string\n",
      " |          Brazilian city name where the stations are located (e.g., Rio de Itaperuna)\n",
      " |      source: string, default 'ANA'\n",
      " |          The source to look for the data. 'ANA' to get the list of stations from the Brazilian National Water Agency\n",
      " |          (ANA) database, or 'ANAF' to get the filtered list of stations that contain only the stations from ANA\n",
      " |          with registered data.\n",
      " |          More information about ANAF: https://doi.org/10.5281/zenodo.3755065\n",
      " |      Returns\n",
      " |      -------\n",
      " |      list_stations : pandas DataFrame\n",
      " |          The selected list of stations as a pandas DataFrame\n",
      " |  \n",
      " |  list_prec_stations(state='', city='', source='ANAF')\n",
      " |  \n",
      " |  list_telemetric()\n",
      " |      Searches for the telemetry stations registered at the Brazilian National Agency of Water inventory.\n",
      " |      Parameters\n",
      " |      ----------\n",
      " |      Returns\n",
      " |      -------\n",
      " |      list_stations : pandas DataFrame\n",
      " |          The list of  all telemtry stations as a pandas DataFrame\n",
      " |  \n",
      " |  prec(list_station, only_consisted=False, threads=10)\n",
      " |      Get the precipitation station data series from a list of stations code.\n",
      " |      Parameters\n",
      " |      ----------\n",
      " |      list_station : list of strings\n",
      " |          A list of with the stations code as strings.\n",
      " |      only_consisted : boolean, default False\n",
      " |          If True, returns only the data classified as consistent by the provider.\n",
      " |      threads: int\n",
      " |          Number of parallel requisitions\n",
      " |      Returns\n",
      " |      -------\n",
      " |      data_stations : pandas DataFrame\n",
      " |          The data of each station as a column in a pandas DataFrame\n",
      " |  \n",
      " |  prec_data(list_station, only_consisted=False)\n",
      " |  \n",
      " |  stage(list_station, only_consisted=False, threads=10)\n",
      " |      Get the stage station data series from a list of stations code of the Brazilian National Water Agency\n",
      " |      (ANA) database.\n",
      " |      Parameters\n",
      " |      ----------\n",
      " |      list_station : list of strings\n",
      " |          A list of with the stations code as strings.\n",
      " |      only_consisted : boolean, default False\n",
      " |          If True, returns only the data classified as consistent by the provider.\n",
      " |      threads: int\n",
      " |          Number of parallel requisitions\n",
      " |      Returns\n",
      " |      -------\n",
      " |      data_stations : pandas DataFrame\n",
      " |          The data of each station as a column in a pandas DataFrame\n",
      " |  \n",
      " |  stage_data(list_station, only_consisted=False)\n",
      " |  \n",
      " |  telemetric(station_code, threads=10)\n",
      " |      Get the Precipitation, Stage and Flow data for the ANA's telemetric stations as a DataFrame.\n",
      " |      Parameters\n",
      " |      ----------\n",
      " |      station_code : str\n",
      " |          The station code a string.\n",
      " |      threads: int\n",
      " |          Number of parallel requisitions\n",
      " |      Returns\n",
      " |      -------\n",
      " |      data_station : pandas DataFrame\n",
      " |          The data os each station as a column in a pandas DataFrame\n",
      " |  \n",
      " |  ----------------------------------------------------------------------\n",
      " |  Data descriptors defined here:\n",
      " |  \n",
      " |  __dict__\n",
      " |      dictionary for instance variables (if defined)\n",
      " |  \n",
      " |  __weakref__\n",
      " |      list of weak references to the object (if defined)\n",
      "\n",
      "None\n"
     ]
    }
   ],
   "source": [
    "print(help(hydrobr.get_data.ANA))"
   ]
  },
  {
   "cell_type": "markdown",
   "id": "1e293212",
   "metadata": {},
   "source": [
    "### Estações meteorológicas em Pernambuco com data final de dados após 1993 "
   ]
  },
  {
   "cell_type": "code",
   "execution_count": 26,
   "id": "877ed66b",
   "metadata": {},
   "outputs": [],
   "source": [
    "# ----------- Obtendo a lista de todas as estações da ANA\n",
    "estacoesANA = hydrobr.get_data.ANA.list_prec()\n",
    "\n",
    "# ---------- Aplicando o filtro para o estado de Pernambuco e com a data final após 1993\n",
    "estacoesPE = estacoesANA[(estacoesANA['State']=='PERNAMBUCO') &\n",
    "                        (estacoesANA['EndDate']>\"1993/01/01\")]\n",
    "\n",
    "listaEstacoesPE = estacoesPE['Code'].unique()\n"
   ]
  },
  {
   "cell_type": "markdown",
   "id": "d74ce056",
   "metadata": {},
   "source": [
    "### Obtendo os dados das estações "
   ]
  },
  {
   "cell_type": "code",
   "execution_count": null,
   "id": "e5732249",
   "metadata": {},
   "outputs": [],
   "source": [
    "# # ---------- Criando um df vazio para salvar os dados das estações\n",
    "# df_estacao_PE = pd.DataFrame()\n",
    "\n",
    "# for codigo in listaEstacoesPE:\n",
    "#     # -------- Gravando os dados da estacao em um df\n",
    "#     df_estacao = hydrobr.get_data.ANA.prec(codigo)\n",
    "    \n",
    "#     # -------- Resetando o índice para criar a coluna do periodo\n",
    "#     df_estacao = df_estacao.reset_index()\n",
    "    \n",
    "#     # -------- Salvando o codigo como uma coluna\n",
    "#     df_estacao['CODIGO'] = codigo\n",
    "    \n",
    "#     # ------- Renomeando os campos\n",
    "#     df_estacao.columns = ['PERIODO', 'PRECIPITACAO', 'CODIGO']\n",
    "    \n",
    "#     # ------- Concatenando todos os codigos\n",
    "#     df_estacao_PE = pd.concat([df_estacao_PE,df_estacao])\n",
    "# df_estacao_PE.to_csv)r\"\""
   ]
  },
  {
   "cell_type": "markdown",
   "id": "2ce81f12",
   "metadata": {},
   "source": [
    "### Analisando a completude dos dados "
   ]
  },
  {
   "cell_type": "code",
   "execution_count": 153,
   "id": "b76f46d5",
   "metadata": {},
   "outputs": [
    {
     "name": "stdout",
     "output_type": "stream",
     "text": [
      "Percentual de dados faltantes:  5.32\n",
      "Nº de estações completas:  35\n",
      "Nº de estações incompletas:  110\n"
     ]
    }
   ],
   "source": [
    "df_estacao_PE = pd.read_csv(r\"G:\\.shortcut-targets-by-id\\1Ig4Vr9VF8Np7YgZSfkYXz2EJVcGCBP2M\\PESQUISA\\00_DATASET\\02_Precipitação_Gauges\\Gauges.csv\")\n",
    "\n",
    "# --------- Removendo a coluna do eixo\n",
    "df_estacao_PE.drop(['Unnamed: 0'], axis='columns', inplace=True)\n",
    "\n",
    "# --------- Filtrando o período de janeiro de 1992 a dezembro de 2022\n",
    "df_estacao_PE = df_estacao_PE[(df_estacao_PE[\"PERIODO\"]>=\"1992-01-01\") &\n",
    "                              (df_estacao_PE[\"PERIODO\"]<=\"2022-12-31\")].reset_index(drop=True)\n",
    "\n",
    "# --------- Transformando a coluna de codigo para texto\n",
    "df_estacao_PE['CODIGO'] = df_estacao_PE['CODIGO'].astype(str)\n",
    "\n",
    "# ------- Analisando o numero de dados faltantes\n",
    "percentual_de_dados_faltantes = round((df_estacao_PE['PRECIPITACAO'].isnull().sum()/df_estacao_PE.shape[0])*100, 2)\n",
    "print(\"Percentual de dados faltantes: \", percentual_de_dados_faltantes)\n",
    "\n",
    "# ------- Excluir os dados faltantes\n",
    "df_estacao_PE.dropna(inplace = True)\n",
    "\n",
    "#---------- Fazer um merge entre a primeira data e a última data\n",
    "df_estacao_PE_inicio_e_fim = pd.merge(df_estacao_PE[['CODIGO', 'PERIODO']].drop_duplicates(subset = 'CODIGO', keep = 'first'),\n",
    "              df_estacao_PE.drop_duplicates(subset = 'CODIGO', keep = 'last'), how = 'inner', on = 'CODIGO')\n",
    "\n",
    "df_estacao_PE_inicio_e_fim.loc[(df_estacao_PE_inicio_e_fim['PERIODO_x']=='1992-01-01') &\n",
    "                               (df_estacao_PE_inicio_e_fim['PERIODO_y']=='2022-12-31'), \"CLASSIFICAÇÃO\"] = 'COMPLETA'\n",
    "df_estacao_PE_inicio_e_fim.loc[~((df_estacao_PE_inicio_e_fim['PERIODO_x']=='1992-01-01') &\n",
    "                               (df_estacao_PE_inicio_e_fim['PERIODO_y']=='2022-12-31')), \"CLASSIFICAÇÃO\"] = 'INCOMPLETA'\n",
    "\n",
    "df_estacao_PE_inicio_e_fim.columns = ['CODIGO', 'INÍCIO', 'FIM', 'PRECIPITACAO',\n",
    "       'CLASSIFICAÇÃO']\n",
    "\n",
    "n_estacoes_completas = len(df_estacao_PE_inicio_e_fim[df_estacao_PE_inicio_e_fim['CLASSIFICAÇÃO']=='COMPLETA']['CODIGO'].unique())\n",
    "n_estacoes_incompletas = len(df_estacao_PE_inicio_e_fim[df_estacao_PE_inicio_e_fim['CLASSIFICAÇÃO']=='INCOMPLETA']['CODIGO'].unique())\n",
    "\n",
    "print(\"Nº de estações completas: \", n_estacoes_completas)\n",
    "print(\"Nº de estações incompletas: \", n_estacoes_incompletas)"
   ]
  },
  {
   "cell_type": "markdown",
   "id": "932eb0e1",
   "metadata": {},
   "source": [
    "#### Utilizando o gráfico de Gantt para analisar a completude dos dados no periodo de janeiro de 1992 até dezembro de 2022 "
   ]
  },
  {
   "cell_type": "code",
   "execution_count": 154,
   "id": "4a032580",
   "metadata": {},
   "outputs": [
    {
     "data": {
      "application/vnd.plotly.v1+json": {
       "config": {
        "plotlyServerURL": "https://plot.ly"
       },
       "data": [
        {
         "alignmentgroup": "True",
         "base": [
          "1992-01-01",
          "1992-01-01",
          "1992-01-01",
          "1992-01-01",
          "1992-01-01",
          "1992-01-01",
          "1992-01-01",
          "1992-01-01",
          "1992-01-01",
          "1993-04-01",
          "2016-12-01",
          "2014-03-01",
          "1992-01-01",
          "1992-01-01",
          "1992-01-01",
          "1992-06-01",
          "1992-01-01",
          "1992-01-01",
          "1992-01-01",
          "1992-01-01",
          "1992-01-01",
          "1992-01-01",
          "1992-01-01",
          "1992-01-01",
          "1992-01-01",
          "1992-01-01",
          "2000-04-20",
          "1992-01-01",
          "1992-01-01",
          "1992-01-01",
          "1992-01-01",
          "2015-07-03",
          "2016-05-01",
          "1992-01-01",
          "1992-01-01",
          "1992-01-01",
          "1992-01-01",
          "1992-01-01",
          "1992-01-01",
          "1992-01-01",
          "1992-01-01",
          "1992-01-01",
          "1992-01-01",
          "1992-01-01",
          "1992-01-01",
          "1992-01-01",
          "1992-01-01",
          "1992-01-01",
          "1992-01-01",
          "1992-01-01",
          "1992-01-01",
          "1992-01-01",
          "1992-01-01",
          "2003-02-01",
          "2015-08-23",
          "1992-01-01",
          "1992-01-01",
          "1992-01-01",
          "1992-01-01",
          "1992-01-01",
          "1992-01-01",
          "1992-01-01",
          "1992-01-01",
          "1992-01-01",
          "1992-01-01",
          "1992-01-01",
          "1992-01-01",
          "1992-01-01",
          "1992-01-01",
          "2004-11-11",
          "2008-12-01",
          "2008-12-01",
          "1992-01-01",
          "1997-12-01",
          "1992-01-01",
          "1992-01-01",
          "1992-01-01",
          "1998-01-01",
          "1992-01-01",
          "1992-01-01",
          "1992-01-01",
          "1992-01-01",
          "1992-01-01",
          "1992-01-01",
          "1992-01-01",
          "1992-01-01",
          "1992-01-01",
          "1992-01-01",
          "1999-01-01",
          "1992-01-01",
          "1992-01-01",
          "1992-01-01",
          "1992-01-01",
          "1992-01-01",
          "1992-01-01",
          "1992-01-01",
          "1992-01-01",
          "1992-11-01",
          "1992-01-01",
          "1992-01-01",
          "1992-01-01",
          "1992-01-01",
          "1992-01-01",
          "1992-01-01",
          "1992-01-01",
          "1992-01-01",
          "1992-01-01",
          "1992-11-01",
          "1992-01-01",
          "1992-01-01"
         ],
         "hovertemplate": "CLASSIFICAÇÃO=INCOMPLETA<br>INÍCIO=%{base}<br>FIM=%{x}<br>CODIGO=%{y}<extra></extra>",
         "legendgroup": "INCOMPLETA",
         "marker": {
          "color": "#636efa",
          "pattern": {
           "shape": ""
          }
         },
         "name": "INCOMPLETA",
         "offsetgroup": "INCOMPLETA",
         "orientation": "h",
         "showlegend": true,
         "textposition": "auto",
         "type": "bar",
         "x": [
          94608000000,
          36633600000,
          44582400000,
          34214400000,
          36633600000,
          44582400000,
          36633600000,
          97286400000,
          36633600000,
          126144000000,
          52444800000,
          278640000000,
          933465600000,
          47174400000,
          78710400000,
          28771200000,
          97286400000,
          65750400000,
          41904000000,
          94608000000,
          60393600000,
          52531200000,
          44582400000,
          34214400000,
          57801600000,
          867628800000,
          716256000000,
          39312000000,
          39312000000,
          58492800000,
          41904000000,
          110332800000,
          110937600000,
          44582400000,
          41904000000,
          41904000000,
          41904000000,
          231206400000,
          47174400000,
          36633600000,
          41904000000,
          97286400000,
          47174400000,
          41904000000,
          47174400000,
          231206400000,
          86659200000,
          68169600000,
          41904000000,
          97286400000,
          39312000000,
          41904000000,
          73440000000,
          2332800000,
          105926400000,
          52531200000,
          39312000000,
          228614400000,
          112924800000,
          94608000000,
          41904000000,
          47174400000,
          231206400000,
          36633600000,
          223516800000,
          34214400000,
          47174400000,
          41904000000,
          36633600000,
          572313600000,
          444355200000,
          444355200000,
          52531200000,
          28857600000,
          297043200000,
          70848000000,
          84067200000,
          39225600000,
          94608000000,
          231206400000,
          228614400000,
          57801600000,
          94608000000,
          94608000000,
          94608000000,
          57801600000,
          491616000000,
          86659200000,
          757296000000,
          97286400000,
          49852800000,
          94608000000,
          975542400000,
          41904000000,
          52531200000,
          94608000000,
          63072000000,
          12960000000,
          57801600000,
          36633600000,
          52531200000,
          57801600000,
          81388800000,
          73440000000,
          47174400000,
          972950400000,
          57801600000,
          23500800000,
          41904000000,
          86659200000
         ],
         "xaxis": "x",
         "y": [
          "735037",
          "735038",
          "735041",
          "735045",
          "735048",
          "735061",
          "735081",
          "735084",
          "735085",
          "735148",
          "735169",
          "735173",
          "737023",
          "737030",
          "737032",
          "737033",
          "738036",
          "739023",
          "739028",
          "739029",
          "739031",
          "739032",
          "740013",
          "740016",
          "740020",
          "834007",
          "834017",
          "835001",
          "835014",
          "835017",
          "835027",
          "835142",
          "835209",
          "836002",
          "836004",
          "836007",
          "836011",
          "836019",
          "836020",
          "836021",
          "836023",
          "836028",
          "836034",
          "836039",
          "836041",
          "836042",
          "836045",
          "836046",
          "836048",
          "836050",
          "836051",
          "836052",
          "836053",
          "836090",
          "836111",
          "837008",
          "837010",
          "837013",
          "837014",
          "837016",
          "837021",
          "837024",
          "837027",
          "837029",
          "837032",
          "837035",
          "837036",
          "837039",
          "837040",
          "837053",
          "837054",
          "837055",
          "838001",
          "838003",
          "838005",
          "838007",
          "838009",
          "838012",
          "838015",
          "838017",
          "838018",
          "838025",
          "838026",
          "838028",
          "839001",
          "839008",
          "839019",
          "839023",
          "839035",
          "840001",
          "840002",
          "840004",
          "840010",
          "840012",
          "840014",
          "840016",
          "840017",
          "840019",
          "840021",
          "840022",
          "840023",
          "841011",
          "841015",
          "936000",
          "936009",
          "937031",
          "938000",
          "938002",
          "938003",
          "940002"
         ],
         "yaxis": "y"
        },
        {
         "alignmentgroup": "True",
         "base": [
          "1992-01-01",
          "1992-01-01",
          "1992-01-01",
          "1992-01-01",
          "1992-01-01",
          "1992-01-01",
          "1992-01-01",
          "1992-01-01",
          "1992-01-01",
          "1992-01-01",
          "1992-01-01",
          "1992-01-01",
          "1992-01-01",
          "1992-01-01",
          "1992-01-01",
          "1992-01-01",
          "1992-01-01",
          "1992-01-01",
          "1992-01-01",
          "1992-01-01",
          "1992-01-01",
          "1992-01-01",
          "1992-01-01",
          "1992-01-01",
          "1992-01-01",
          "1992-01-01",
          "1992-01-01",
          "1992-01-01",
          "1992-01-01",
          "1992-01-01",
          "1992-01-01",
          "1992-01-01",
          "1992-01-01",
          "1992-01-01",
          "1992-01-01"
         ],
         "hovertemplate": "CLASSIFICAÇÃO=COMPLETA<br>INÍCIO=%{base}<br>FIM=%{x}<br>CODIGO=%{y}<extra></extra>",
         "legendgroup": "COMPLETA",
         "marker": {
          "color": "#EF553B",
          "pattern": {
           "shape": ""
          }
         },
         "name": "COMPLETA",
         "offsetgroup": "COMPLETA",
         "orientation": "h",
         "showlegend": true,
         "textposition": "auto",
         "type": "bar",
         "x": [
          978220800000,
          978220800000,
          978220800000,
          978220800000,
          978220800000,
          978220800000,
          978220800000,
          978220800000,
          978220800000,
          978220800000,
          978220800000,
          978220800000,
          978220800000,
          978220800000,
          978220800000,
          978220800000,
          978220800000,
          978220800000,
          978220800000,
          978220800000,
          978220800000,
          978220800000,
          978220800000,
          978220800000,
          978220800000,
          978220800000,
          978220800000,
          978220800000,
          978220800000,
          978220800000,
          978220800000,
          978220800000,
          978220800000,
          978220800000,
          978220800000
         ],
         "xaxis": "x",
         "y": [
          "735050",
          "735066",
          "735067",
          "735100",
          "735157",
          "735158",
          "735159",
          "736040",
          "736041",
          "736042",
          "737027",
          "835048",
          "835068",
          "835106",
          "835135",
          "835136",
          "835137",
          "835138",
          "835140",
          "835141",
          "836043",
          "836092",
          "836093",
          "837038",
          "838000",
          "838002",
          "838004",
          "838021",
          "838031",
          "839009",
          "839013",
          "839014",
          "839031",
          "839034",
          "840015"
         ],
         "yaxis": "y"
        }
       ],
       "layout": {
        "barmode": "overlay",
        "legend": {
         "title": {
          "text": "CLASSIFICAÇÃO"
         },
         "tracegroupgap": 0
        },
        "margin": {
         "t": 60
        },
        "template": {
         "data": {
          "bar": [
           {
            "error_x": {
             "color": "#2a3f5f"
            },
            "error_y": {
             "color": "#2a3f5f"
            },
            "marker": {
             "line": {
              "color": "#E5ECF6",
              "width": 0.5
             },
             "pattern": {
              "fillmode": "overlay",
              "size": 10,
              "solidity": 0.2
             }
            },
            "type": "bar"
           }
          ],
          "barpolar": [
           {
            "marker": {
             "line": {
              "color": "#E5ECF6",
              "width": 0.5
             },
             "pattern": {
              "fillmode": "overlay",
              "size": 10,
              "solidity": 0.2
             }
            },
            "type": "barpolar"
           }
          ],
          "carpet": [
           {
            "aaxis": {
             "endlinecolor": "#2a3f5f",
             "gridcolor": "white",
             "linecolor": "white",
             "minorgridcolor": "white",
             "startlinecolor": "#2a3f5f"
            },
            "baxis": {
             "endlinecolor": "#2a3f5f",
             "gridcolor": "white",
             "linecolor": "white",
             "minorgridcolor": "white",
             "startlinecolor": "#2a3f5f"
            },
            "type": "carpet"
           }
          ],
          "choropleth": [
           {
            "colorbar": {
             "outlinewidth": 0,
             "ticks": ""
            },
            "type": "choropleth"
           }
          ],
          "contour": [
           {
            "colorbar": {
             "outlinewidth": 0,
             "ticks": ""
            },
            "colorscale": [
             [
              0,
              "#0d0887"
             ],
             [
              0.1111111111111111,
              "#46039f"
             ],
             [
              0.2222222222222222,
              "#7201a8"
             ],
             [
              0.3333333333333333,
              "#9c179e"
             ],
             [
              0.4444444444444444,
              "#bd3786"
             ],
             [
              0.5555555555555556,
              "#d8576b"
             ],
             [
              0.6666666666666666,
              "#ed7953"
             ],
             [
              0.7777777777777778,
              "#fb9f3a"
             ],
             [
              0.8888888888888888,
              "#fdca26"
             ],
             [
              1,
              "#f0f921"
             ]
            ],
            "type": "contour"
           }
          ],
          "contourcarpet": [
           {
            "colorbar": {
             "outlinewidth": 0,
             "ticks": ""
            },
            "type": "contourcarpet"
           }
          ],
          "heatmap": [
           {
            "colorbar": {
             "outlinewidth": 0,
             "ticks": ""
            },
            "colorscale": [
             [
              0,
              "#0d0887"
             ],
             [
              0.1111111111111111,
              "#46039f"
             ],
             [
              0.2222222222222222,
              "#7201a8"
             ],
             [
              0.3333333333333333,
              "#9c179e"
             ],
             [
              0.4444444444444444,
              "#bd3786"
             ],
             [
              0.5555555555555556,
              "#d8576b"
             ],
             [
              0.6666666666666666,
              "#ed7953"
             ],
             [
              0.7777777777777778,
              "#fb9f3a"
             ],
             [
              0.8888888888888888,
              "#fdca26"
             ],
             [
              1,
              "#f0f921"
             ]
            ],
            "type": "heatmap"
           }
          ],
          "heatmapgl": [
           {
            "colorbar": {
             "outlinewidth": 0,
             "ticks": ""
            },
            "colorscale": [
             [
              0,
              "#0d0887"
             ],
             [
              0.1111111111111111,
              "#46039f"
             ],
             [
              0.2222222222222222,
              "#7201a8"
             ],
             [
              0.3333333333333333,
              "#9c179e"
             ],
             [
              0.4444444444444444,
              "#bd3786"
             ],
             [
              0.5555555555555556,
              "#d8576b"
             ],
             [
              0.6666666666666666,
              "#ed7953"
             ],
             [
              0.7777777777777778,
              "#fb9f3a"
             ],
             [
              0.8888888888888888,
              "#fdca26"
             ],
             [
              1,
              "#f0f921"
             ]
            ],
            "type": "heatmapgl"
           }
          ],
          "histogram": [
           {
            "marker": {
             "pattern": {
              "fillmode": "overlay",
              "size": 10,
              "solidity": 0.2
             }
            },
            "type": "histogram"
           }
          ],
          "histogram2d": [
           {
            "colorbar": {
             "outlinewidth": 0,
             "ticks": ""
            },
            "colorscale": [
             [
              0,
              "#0d0887"
             ],
             [
              0.1111111111111111,
              "#46039f"
             ],
             [
              0.2222222222222222,
              "#7201a8"
             ],
             [
              0.3333333333333333,
              "#9c179e"
             ],
             [
              0.4444444444444444,
              "#bd3786"
             ],
             [
              0.5555555555555556,
              "#d8576b"
             ],
             [
              0.6666666666666666,
              "#ed7953"
             ],
             [
              0.7777777777777778,
              "#fb9f3a"
             ],
             [
              0.8888888888888888,
              "#fdca26"
             ],
             [
              1,
              "#f0f921"
             ]
            ],
            "type": "histogram2d"
           }
          ],
          "histogram2dcontour": [
           {
            "colorbar": {
             "outlinewidth": 0,
             "ticks": ""
            },
            "colorscale": [
             [
              0,
              "#0d0887"
             ],
             [
              0.1111111111111111,
              "#46039f"
             ],
             [
              0.2222222222222222,
              "#7201a8"
             ],
             [
              0.3333333333333333,
              "#9c179e"
             ],
             [
              0.4444444444444444,
              "#bd3786"
             ],
             [
              0.5555555555555556,
              "#d8576b"
             ],
             [
              0.6666666666666666,
              "#ed7953"
             ],
             [
              0.7777777777777778,
              "#fb9f3a"
             ],
             [
              0.8888888888888888,
              "#fdca26"
             ],
             [
              1,
              "#f0f921"
             ]
            ],
            "type": "histogram2dcontour"
           }
          ],
          "mesh3d": [
           {
            "colorbar": {
             "outlinewidth": 0,
             "ticks": ""
            },
            "type": "mesh3d"
           }
          ],
          "parcoords": [
           {
            "line": {
             "colorbar": {
              "outlinewidth": 0,
              "ticks": ""
             }
            },
            "type": "parcoords"
           }
          ],
          "pie": [
           {
            "automargin": true,
            "type": "pie"
           }
          ],
          "scatter": [
           {
            "fillpattern": {
             "fillmode": "overlay",
             "size": 10,
             "solidity": 0.2
            },
            "type": "scatter"
           }
          ],
          "scatter3d": [
           {
            "line": {
             "colorbar": {
              "outlinewidth": 0,
              "ticks": ""
             }
            },
            "marker": {
             "colorbar": {
              "outlinewidth": 0,
              "ticks": ""
             }
            },
            "type": "scatter3d"
           }
          ],
          "scattercarpet": [
           {
            "marker": {
             "colorbar": {
              "outlinewidth": 0,
              "ticks": ""
             }
            },
            "type": "scattercarpet"
           }
          ],
          "scattergeo": [
           {
            "marker": {
             "colorbar": {
              "outlinewidth": 0,
              "ticks": ""
             }
            },
            "type": "scattergeo"
           }
          ],
          "scattergl": [
           {
            "marker": {
             "colorbar": {
              "outlinewidth": 0,
              "ticks": ""
             }
            },
            "type": "scattergl"
           }
          ],
          "scattermapbox": [
           {
            "marker": {
             "colorbar": {
              "outlinewidth": 0,
              "ticks": ""
             }
            },
            "type": "scattermapbox"
           }
          ],
          "scatterpolar": [
           {
            "marker": {
             "colorbar": {
              "outlinewidth": 0,
              "ticks": ""
             }
            },
            "type": "scatterpolar"
           }
          ],
          "scatterpolargl": [
           {
            "marker": {
             "colorbar": {
              "outlinewidth": 0,
              "ticks": ""
             }
            },
            "type": "scatterpolargl"
           }
          ],
          "scatterternary": [
           {
            "marker": {
             "colorbar": {
              "outlinewidth": 0,
              "ticks": ""
             }
            },
            "type": "scatterternary"
           }
          ],
          "surface": [
           {
            "colorbar": {
             "outlinewidth": 0,
             "ticks": ""
            },
            "colorscale": [
             [
              0,
              "#0d0887"
             ],
             [
              0.1111111111111111,
              "#46039f"
             ],
             [
              0.2222222222222222,
              "#7201a8"
             ],
             [
              0.3333333333333333,
              "#9c179e"
             ],
             [
              0.4444444444444444,
              "#bd3786"
             ],
             [
              0.5555555555555556,
              "#d8576b"
             ],
             [
              0.6666666666666666,
              "#ed7953"
             ],
             [
              0.7777777777777778,
              "#fb9f3a"
             ],
             [
              0.8888888888888888,
              "#fdca26"
             ],
             [
              1,
              "#f0f921"
             ]
            ],
            "type": "surface"
           }
          ],
          "table": [
           {
            "cells": {
             "fill": {
              "color": "#EBF0F8"
             },
             "line": {
              "color": "white"
             }
            },
            "header": {
             "fill": {
              "color": "#C8D4E3"
             },
             "line": {
              "color": "white"
             }
            },
            "type": "table"
           }
          ]
         },
         "layout": {
          "annotationdefaults": {
           "arrowcolor": "#2a3f5f",
           "arrowhead": 0,
           "arrowwidth": 1
          },
          "autotypenumbers": "strict",
          "coloraxis": {
           "colorbar": {
            "outlinewidth": 0,
            "ticks": ""
           }
          },
          "colorscale": {
           "diverging": [
            [
             0,
             "#8e0152"
            ],
            [
             0.1,
             "#c51b7d"
            ],
            [
             0.2,
             "#de77ae"
            ],
            [
             0.3,
             "#f1b6da"
            ],
            [
             0.4,
             "#fde0ef"
            ],
            [
             0.5,
             "#f7f7f7"
            ],
            [
             0.6,
             "#e6f5d0"
            ],
            [
             0.7,
             "#b8e186"
            ],
            [
             0.8,
             "#7fbc41"
            ],
            [
             0.9,
             "#4d9221"
            ],
            [
             1,
             "#276419"
            ]
           ],
           "sequential": [
            [
             0,
             "#0d0887"
            ],
            [
             0.1111111111111111,
             "#46039f"
            ],
            [
             0.2222222222222222,
             "#7201a8"
            ],
            [
             0.3333333333333333,
             "#9c179e"
            ],
            [
             0.4444444444444444,
             "#bd3786"
            ],
            [
             0.5555555555555556,
             "#d8576b"
            ],
            [
             0.6666666666666666,
             "#ed7953"
            ],
            [
             0.7777777777777778,
             "#fb9f3a"
            ],
            [
             0.8888888888888888,
             "#fdca26"
            ],
            [
             1,
             "#f0f921"
            ]
           ],
           "sequentialminus": [
            [
             0,
             "#0d0887"
            ],
            [
             0.1111111111111111,
             "#46039f"
            ],
            [
             0.2222222222222222,
             "#7201a8"
            ],
            [
             0.3333333333333333,
             "#9c179e"
            ],
            [
             0.4444444444444444,
             "#bd3786"
            ],
            [
             0.5555555555555556,
             "#d8576b"
            ],
            [
             0.6666666666666666,
             "#ed7953"
            ],
            [
             0.7777777777777778,
             "#fb9f3a"
            ],
            [
             0.8888888888888888,
             "#fdca26"
            ],
            [
             1,
             "#f0f921"
            ]
           ]
          },
          "colorway": [
           "#636efa",
           "#EF553B",
           "#00cc96",
           "#ab63fa",
           "#FFA15A",
           "#19d3f3",
           "#FF6692",
           "#B6E880",
           "#FF97FF",
           "#FECB52"
          ],
          "font": {
           "color": "#2a3f5f"
          },
          "geo": {
           "bgcolor": "white",
           "lakecolor": "white",
           "landcolor": "#E5ECF6",
           "showlakes": true,
           "showland": true,
           "subunitcolor": "white"
          },
          "hoverlabel": {
           "align": "left"
          },
          "hovermode": "closest",
          "mapbox": {
           "style": "light"
          },
          "paper_bgcolor": "white",
          "plot_bgcolor": "#E5ECF6",
          "polar": {
           "angularaxis": {
            "gridcolor": "white",
            "linecolor": "white",
            "ticks": ""
           },
           "bgcolor": "#E5ECF6",
           "radialaxis": {
            "gridcolor": "white",
            "linecolor": "white",
            "ticks": ""
           }
          },
          "scene": {
           "xaxis": {
            "backgroundcolor": "#E5ECF6",
            "gridcolor": "white",
            "gridwidth": 2,
            "linecolor": "white",
            "showbackground": true,
            "ticks": "",
            "zerolinecolor": "white"
           },
           "yaxis": {
            "backgroundcolor": "#E5ECF6",
            "gridcolor": "white",
            "gridwidth": 2,
            "linecolor": "white",
            "showbackground": true,
            "ticks": "",
            "zerolinecolor": "white"
           },
           "zaxis": {
            "backgroundcolor": "#E5ECF6",
            "gridcolor": "white",
            "gridwidth": 2,
            "linecolor": "white",
            "showbackground": true,
            "ticks": "",
            "zerolinecolor": "white"
           }
          },
          "shapedefaults": {
           "line": {
            "color": "#2a3f5f"
           }
          },
          "ternary": {
           "aaxis": {
            "gridcolor": "white",
            "linecolor": "white",
            "ticks": ""
           },
           "baxis": {
            "gridcolor": "white",
            "linecolor": "white",
            "ticks": ""
           },
           "bgcolor": "#E5ECF6",
           "caxis": {
            "gridcolor": "white",
            "linecolor": "white",
            "ticks": ""
           }
          },
          "title": {
           "x": 0.05
          },
          "xaxis": {
           "automargin": true,
           "gridcolor": "white",
           "linecolor": "white",
           "ticks": "",
           "title": {
            "standoff": 15
           },
           "zerolinecolor": "white",
           "zerolinewidth": 2
          },
          "yaxis": {
           "automargin": true,
           "gridcolor": "white",
           "linecolor": "white",
           "ticks": "",
           "title": {
            "standoff": 15
           },
           "zerolinecolor": "white",
           "zerolinewidth": 2
          }
         }
        },
        "xaxis": {
         "anchor": "y",
         "domain": [
          0,
          1
         ],
         "type": "date"
        },
        "yaxis": {
         "anchor": "x",
         "autorange": "reversed",
         "domain": [
          0,
          1
         ],
         "title": {
          "text": "CODIGO"
         }
        }
       }
      },
      "text/html": [
       "<div>                            <div id=\"153cd85e-cc65-48e5-a508-fb5b0a1ca30c\" class=\"plotly-graph-div\" style=\"height:525px; width:100%;\"></div>            <script type=\"text/javascript\">                require([\"plotly\"], function(Plotly) {                    window.PLOTLYENV=window.PLOTLYENV || {};                                    if (document.getElementById(\"153cd85e-cc65-48e5-a508-fb5b0a1ca30c\")) {                    Plotly.newPlot(                        \"153cd85e-cc65-48e5-a508-fb5b0a1ca30c\",                        [{\"alignmentgroup\":\"True\",\"base\":[\"1992-01-01\",\"1992-01-01\",\"1992-01-01\",\"1992-01-01\",\"1992-01-01\",\"1992-01-01\",\"1992-01-01\",\"1992-01-01\",\"1992-01-01\",\"1993-04-01\",\"2016-12-01\",\"2014-03-01\",\"1992-01-01\",\"1992-01-01\",\"1992-01-01\",\"1992-06-01\",\"1992-01-01\",\"1992-01-01\",\"1992-01-01\",\"1992-01-01\",\"1992-01-01\",\"1992-01-01\",\"1992-01-01\",\"1992-01-01\",\"1992-01-01\",\"1992-01-01\",\"2000-04-20\",\"1992-01-01\",\"1992-01-01\",\"1992-01-01\",\"1992-01-01\",\"2015-07-03\",\"2016-05-01\",\"1992-01-01\",\"1992-01-01\",\"1992-01-01\",\"1992-01-01\",\"1992-01-01\",\"1992-01-01\",\"1992-01-01\",\"1992-01-01\",\"1992-01-01\",\"1992-01-01\",\"1992-01-01\",\"1992-01-01\",\"1992-01-01\",\"1992-01-01\",\"1992-01-01\",\"1992-01-01\",\"1992-01-01\",\"1992-01-01\",\"1992-01-01\",\"1992-01-01\",\"2003-02-01\",\"2015-08-23\",\"1992-01-01\",\"1992-01-01\",\"1992-01-01\",\"1992-01-01\",\"1992-01-01\",\"1992-01-01\",\"1992-01-01\",\"1992-01-01\",\"1992-01-01\",\"1992-01-01\",\"1992-01-01\",\"1992-01-01\",\"1992-01-01\",\"1992-01-01\",\"2004-11-11\",\"2008-12-01\",\"2008-12-01\",\"1992-01-01\",\"1997-12-01\",\"1992-01-01\",\"1992-01-01\",\"1992-01-01\",\"1998-01-01\",\"1992-01-01\",\"1992-01-01\",\"1992-01-01\",\"1992-01-01\",\"1992-01-01\",\"1992-01-01\",\"1992-01-01\",\"1992-01-01\",\"1992-01-01\",\"1992-01-01\",\"1999-01-01\",\"1992-01-01\",\"1992-01-01\",\"1992-01-01\",\"1992-01-01\",\"1992-01-01\",\"1992-01-01\",\"1992-01-01\",\"1992-01-01\",\"1992-11-01\",\"1992-01-01\",\"1992-01-01\",\"1992-01-01\",\"1992-01-01\",\"1992-01-01\",\"1992-01-01\",\"1992-01-01\",\"1992-01-01\",\"1992-01-01\",\"1992-11-01\",\"1992-01-01\",\"1992-01-01\"],\"hovertemplate\":\"CLASSIFICA\\u00c7\\u00c3O=INCOMPLETA<br>IN\\u00cdCIO=%{base}<br>FIM=%{x}<br>CODIGO=%{y}<extra></extra>\",\"legendgroup\":\"INCOMPLETA\",\"marker\":{\"color\":\"#636efa\",\"pattern\":{\"shape\":\"\"}},\"name\":\"INCOMPLETA\",\"offsetgroup\":\"INCOMPLETA\",\"orientation\":\"h\",\"showlegend\":true,\"textposition\":\"auto\",\"x\":[94608000000.0,36633600000.0,44582400000.0,34214400000.0,36633600000.0,44582400000.0,36633600000.0,97286400000.0,36633600000.0,126144000000.0,52444800000.0,278640000000.0,933465600000.0,47174400000.0,78710400000.0,28771200000.0,97286400000.0,65750400000.0,41904000000.0,94608000000.0,60393600000.0,52531200000.0,44582400000.0,34214400000.0,57801600000.0,867628800000.0,716256000000.0,39312000000.0,39312000000.0,58492800000.0,41904000000.0,110332800000.0,110937600000.0,44582400000.0,41904000000.0,41904000000.0,41904000000.0,231206400000.0,47174400000.0,36633600000.0,41904000000.0,97286400000.0,47174400000.0,41904000000.0,47174400000.0,231206400000.0,86659200000.0,68169600000.0,41904000000.0,97286400000.0,39312000000.0,41904000000.0,73440000000.0,2332800000.0,105926400000.0,52531200000.0,39312000000.0,228614400000.0,112924800000.0,94608000000.0,41904000000.0,47174400000.0,231206400000.0,36633600000.0,223516800000.0,34214400000.0,47174400000.0,41904000000.0,36633600000.0,572313600000.0,444355200000.0,444355200000.0,52531200000.0,28857600000.0,297043200000.0,70848000000.0,84067200000.0,39225600000.0,94608000000.0,231206400000.0,228614400000.0,57801600000.0,94608000000.0,94608000000.0,94608000000.0,57801600000.0,491616000000.0,86659200000.0,757296000000.0,97286400000.0,49852800000.0,94608000000.0,975542400000.0,41904000000.0,52531200000.0,94608000000.0,63072000000.0,12960000000.0,57801600000.0,36633600000.0,52531200000.0,57801600000.0,81388800000.0,73440000000.0,47174400000.0,972950400000.0,57801600000.0,23500800000.0,41904000000.0,86659200000.0],\"xaxis\":\"x\",\"y\":[\"735037\",\"735038\",\"735041\",\"735045\",\"735048\",\"735061\",\"735081\",\"735084\",\"735085\",\"735148\",\"735169\",\"735173\",\"737023\",\"737030\",\"737032\",\"737033\",\"738036\",\"739023\",\"739028\",\"739029\",\"739031\",\"739032\",\"740013\",\"740016\",\"740020\",\"834007\",\"834017\",\"835001\",\"835014\",\"835017\",\"835027\",\"835142\",\"835209\",\"836002\",\"836004\",\"836007\",\"836011\",\"836019\",\"836020\",\"836021\",\"836023\",\"836028\",\"836034\",\"836039\",\"836041\",\"836042\",\"836045\",\"836046\",\"836048\",\"836050\",\"836051\",\"836052\",\"836053\",\"836090\",\"836111\",\"837008\",\"837010\",\"837013\",\"837014\",\"837016\",\"837021\",\"837024\",\"837027\",\"837029\",\"837032\",\"837035\",\"837036\",\"837039\",\"837040\",\"837053\",\"837054\",\"837055\",\"838001\",\"838003\",\"838005\",\"838007\",\"838009\",\"838012\",\"838015\",\"838017\",\"838018\",\"838025\",\"838026\",\"838028\",\"839001\",\"839008\",\"839019\",\"839023\",\"839035\",\"840001\",\"840002\",\"840004\",\"840010\",\"840012\",\"840014\",\"840016\",\"840017\",\"840019\",\"840021\",\"840022\",\"840023\",\"841011\",\"841015\",\"936000\",\"936009\",\"937031\",\"938000\",\"938002\",\"938003\",\"940002\"],\"yaxis\":\"y\",\"type\":\"bar\"},{\"alignmentgroup\":\"True\",\"base\":[\"1992-01-01\",\"1992-01-01\",\"1992-01-01\",\"1992-01-01\",\"1992-01-01\",\"1992-01-01\",\"1992-01-01\",\"1992-01-01\",\"1992-01-01\",\"1992-01-01\",\"1992-01-01\",\"1992-01-01\",\"1992-01-01\",\"1992-01-01\",\"1992-01-01\",\"1992-01-01\",\"1992-01-01\",\"1992-01-01\",\"1992-01-01\",\"1992-01-01\",\"1992-01-01\",\"1992-01-01\",\"1992-01-01\",\"1992-01-01\",\"1992-01-01\",\"1992-01-01\",\"1992-01-01\",\"1992-01-01\",\"1992-01-01\",\"1992-01-01\",\"1992-01-01\",\"1992-01-01\",\"1992-01-01\",\"1992-01-01\",\"1992-01-01\"],\"hovertemplate\":\"CLASSIFICA\\u00c7\\u00c3O=COMPLETA<br>IN\\u00cdCIO=%{base}<br>FIM=%{x}<br>CODIGO=%{y}<extra></extra>\",\"legendgroup\":\"COMPLETA\",\"marker\":{\"color\":\"#EF553B\",\"pattern\":{\"shape\":\"\"}},\"name\":\"COMPLETA\",\"offsetgroup\":\"COMPLETA\",\"orientation\":\"h\",\"showlegend\":true,\"textposition\":\"auto\",\"x\":[978220800000.0,978220800000.0,978220800000.0,978220800000.0,978220800000.0,978220800000.0,978220800000.0,978220800000.0,978220800000.0,978220800000.0,978220800000.0,978220800000.0,978220800000.0,978220800000.0,978220800000.0,978220800000.0,978220800000.0,978220800000.0,978220800000.0,978220800000.0,978220800000.0,978220800000.0,978220800000.0,978220800000.0,978220800000.0,978220800000.0,978220800000.0,978220800000.0,978220800000.0,978220800000.0,978220800000.0,978220800000.0,978220800000.0,978220800000.0,978220800000.0],\"xaxis\":\"x\",\"y\":[\"735050\",\"735066\",\"735067\",\"735100\",\"735157\",\"735158\",\"735159\",\"736040\",\"736041\",\"736042\",\"737027\",\"835048\",\"835068\",\"835106\",\"835135\",\"835136\",\"835137\",\"835138\",\"835140\",\"835141\",\"836043\",\"836092\",\"836093\",\"837038\",\"838000\",\"838002\",\"838004\",\"838021\",\"838031\",\"839009\",\"839013\",\"839014\",\"839031\",\"839034\",\"840015\"],\"yaxis\":\"y\",\"type\":\"bar\"}],                        {\"template\":{\"data\":{\"histogram2dcontour\":[{\"type\":\"histogram2dcontour\",\"colorbar\":{\"outlinewidth\":0,\"ticks\":\"\"},\"colorscale\":[[0.0,\"#0d0887\"],[0.1111111111111111,\"#46039f\"],[0.2222222222222222,\"#7201a8\"],[0.3333333333333333,\"#9c179e\"],[0.4444444444444444,\"#bd3786\"],[0.5555555555555556,\"#d8576b\"],[0.6666666666666666,\"#ed7953\"],[0.7777777777777778,\"#fb9f3a\"],[0.8888888888888888,\"#fdca26\"],[1.0,\"#f0f921\"]]}],\"choropleth\":[{\"type\":\"choropleth\",\"colorbar\":{\"outlinewidth\":0,\"ticks\":\"\"}}],\"histogram2d\":[{\"type\":\"histogram2d\",\"colorbar\":{\"outlinewidth\":0,\"ticks\":\"\"},\"colorscale\":[[0.0,\"#0d0887\"],[0.1111111111111111,\"#46039f\"],[0.2222222222222222,\"#7201a8\"],[0.3333333333333333,\"#9c179e\"],[0.4444444444444444,\"#bd3786\"],[0.5555555555555556,\"#d8576b\"],[0.6666666666666666,\"#ed7953\"],[0.7777777777777778,\"#fb9f3a\"],[0.8888888888888888,\"#fdca26\"],[1.0,\"#f0f921\"]]}],\"heatmap\":[{\"type\":\"heatmap\",\"colorbar\":{\"outlinewidth\":0,\"ticks\":\"\"},\"colorscale\":[[0.0,\"#0d0887\"],[0.1111111111111111,\"#46039f\"],[0.2222222222222222,\"#7201a8\"],[0.3333333333333333,\"#9c179e\"],[0.4444444444444444,\"#bd3786\"],[0.5555555555555556,\"#d8576b\"],[0.6666666666666666,\"#ed7953\"],[0.7777777777777778,\"#fb9f3a\"],[0.8888888888888888,\"#fdca26\"],[1.0,\"#f0f921\"]]}],\"heatmapgl\":[{\"type\":\"heatmapgl\",\"colorbar\":{\"outlinewidth\":0,\"ticks\":\"\"},\"colorscale\":[[0.0,\"#0d0887\"],[0.1111111111111111,\"#46039f\"],[0.2222222222222222,\"#7201a8\"],[0.3333333333333333,\"#9c179e\"],[0.4444444444444444,\"#bd3786\"],[0.5555555555555556,\"#d8576b\"],[0.6666666666666666,\"#ed7953\"],[0.7777777777777778,\"#fb9f3a\"],[0.8888888888888888,\"#fdca26\"],[1.0,\"#f0f921\"]]}],\"contourcarpet\":[{\"type\":\"contourcarpet\",\"colorbar\":{\"outlinewidth\":0,\"ticks\":\"\"}}],\"contour\":[{\"type\":\"contour\",\"colorbar\":{\"outlinewidth\":0,\"ticks\":\"\"},\"colorscale\":[[0.0,\"#0d0887\"],[0.1111111111111111,\"#46039f\"],[0.2222222222222222,\"#7201a8\"],[0.3333333333333333,\"#9c179e\"],[0.4444444444444444,\"#bd3786\"],[0.5555555555555556,\"#d8576b\"],[0.6666666666666666,\"#ed7953\"],[0.7777777777777778,\"#fb9f3a\"],[0.8888888888888888,\"#fdca26\"],[1.0,\"#f0f921\"]]}],\"surface\":[{\"type\":\"surface\",\"colorbar\":{\"outlinewidth\":0,\"ticks\":\"\"},\"colorscale\":[[0.0,\"#0d0887\"],[0.1111111111111111,\"#46039f\"],[0.2222222222222222,\"#7201a8\"],[0.3333333333333333,\"#9c179e\"],[0.4444444444444444,\"#bd3786\"],[0.5555555555555556,\"#d8576b\"],[0.6666666666666666,\"#ed7953\"],[0.7777777777777778,\"#fb9f3a\"],[0.8888888888888888,\"#fdca26\"],[1.0,\"#f0f921\"]]}],\"mesh3d\":[{\"type\":\"mesh3d\",\"colorbar\":{\"outlinewidth\":0,\"ticks\":\"\"}}],\"scatter\":[{\"fillpattern\":{\"fillmode\":\"overlay\",\"size\":10,\"solidity\":0.2},\"type\":\"scatter\"}],\"parcoords\":[{\"type\":\"parcoords\",\"line\":{\"colorbar\":{\"outlinewidth\":0,\"ticks\":\"\"}}}],\"scatterpolargl\":[{\"type\":\"scatterpolargl\",\"marker\":{\"colorbar\":{\"outlinewidth\":0,\"ticks\":\"\"}}}],\"bar\":[{\"error_x\":{\"color\":\"#2a3f5f\"},\"error_y\":{\"color\":\"#2a3f5f\"},\"marker\":{\"line\":{\"color\":\"#E5ECF6\",\"width\":0.5},\"pattern\":{\"fillmode\":\"overlay\",\"size\":10,\"solidity\":0.2}},\"type\":\"bar\"}],\"scattergeo\":[{\"type\":\"scattergeo\",\"marker\":{\"colorbar\":{\"outlinewidth\":0,\"ticks\":\"\"}}}],\"scatterpolar\":[{\"type\":\"scatterpolar\",\"marker\":{\"colorbar\":{\"outlinewidth\":0,\"ticks\":\"\"}}}],\"histogram\":[{\"marker\":{\"pattern\":{\"fillmode\":\"overlay\",\"size\":10,\"solidity\":0.2}},\"type\":\"histogram\"}],\"scattergl\":[{\"type\":\"scattergl\",\"marker\":{\"colorbar\":{\"outlinewidth\":0,\"ticks\":\"\"}}}],\"scatter3d\":[{\"type\":\"scatter3d\",\"line\":{\"colorbar\":{\"outlinewidth\":0,\"ticks\":\"\"}},\"marker\":{\"colorbar\":{\"outlinewidth\":0,\"ticks\":\"\"}}}],\"scattermapbox\":[{\"type\":\"scattermapbox\",\"marker\":{\"colorbar\":{\"outlinewidth\":0,\"ticks\":\"\"}}}],\"scatterternary\":[{\"type\":\"scatterternary\",\"marker\":{\"colorbar\":{\"outlinewidth\":0,\"ticks\":\"\"}}}],\"scattercarpet\":[{\"type\":\"scattercarpet\",\"marker\":{\"colorbar\":{\"outlinewidth\":0,\"ticks\":\"\"}}}],\"carpet\":[{\"aaxis\":{\"endlinecolor\":\"#2a3f5f\",\"gridcolor\":\"white\",\"linecolor\":\"white\",\"minorgridcolor\":\"white\",\"startlinecolor\":\"#2a3f5f\"},\"baxis\":{\"endlinecolor\":\"#2a3f5f\",\"gridcolor\":\"white\",\"linecolor\":\"white\",\"minorgridcolor\":\"white\",\"startlinecolor\":\"#2a3f5f\"},\"type\":\"carpet\"}],\"table\":[{\"cells\":{\"fill\":{\"color\":\"#EBF0F8\"},\"line\":{\"color\":\"white\"}},\"header\":{\"fill\":{\"color\":\"#C8D4E3\"},\"line\":{\"color\":\"white\"}},\"type\":\"table\"}],\"barpolar\":[{\"marker\":{\"line\":{\"color\":\"#E5ECF6\",\"width\":0.5},\"pattern\":{\"fillmode\":\"overlay\",\"size\":10,\"solidity\":0.2}},\"type\":\"barpolar\"}],\"pie\":[{\"automargin\":true,\"type\":\"pie\"}]},\"layout\":{\"autotypenumbers\":\"strict\",\"colorway\":[\"#636efa\",\"#EF553B\",\"#00cc96\",\"#ab63fa\",\"#FFA15A\",\"#19d3f3\",\"#FF6692\",\"#B6E880\",\"#FF97FF\",\"#FECB52\"],\"font\":{\"color\":\"#2a3f5f\"},\"hovermode\":\"closest\",\"hoverlabel\":{\"align\":\"left\"},\"paper_bgcolor\":\"white\",\"plot_bgcolor\":\"#E5ECF6\",\"polar\":{\"bgcolor\":\"#E5ECF6\",\"angularaxis\":{\"gridcolor\":\"white\",\"linecolor\":\"white\",\"ticks\":\"\"},\"radialaxis\":{\"gridcolor\":\"white\",\"linecolor\":\"white\",\"ticks\":\"\"}},\"ternary\":{\"bgcolor\":\"#E5ECF6\",\"aaxis\":{\"gridcolor\":\"white\",\"linecolor\":\"white\",\"ticks\":\"\"},\"baxis\":{\"gridcolor\":\"white\",\"linecolor\":\"white\",\"ticks\":\"\"},\"caxis\":{\"gridcolor\":\"white\",\"linecolor\":\"white\",\"ticks\":\"\"}},\"coloraxis\":{\"colorbar\":{\"outlinewidth\":0,\"ticks\":\"\"}},\"colorscale\":{\"sequential\":[[0.0,\"#0d0887\"],[0.1111111111111111,\"#46039f\"],[0.2222222222222222,\"#7201a8\"],[0.3333333333333333,\"#9c179e\"],[0.4444444444444444,\"#bd3786\"],[0.5555555555555556,\"#d8576b\"],[0.6666666666666666,\"#ed7953\"],[0.7777777777777778,\"#fb9f3a\"],[0.8888888888888888,\"#fdca26\"],[1.0,\"#f0f921\"]],\"sequentialminus\":[[0.0,\"#0d0887\"],[0.1111111111111111,\"#46039f\"],[0.2222222222222222,\"#7201a8\"],[0.3333333333333333,\"#9c179e\"],[0.4444444444444444,\"#bd3786\"],[0.5555555555555556,\"#d8576b\"],[0.6666666666666666,\"#ed7953\"],[0.7777777777777778,\"#fb9f3a\"],[0.8888888888888888,\"#fdca26\"],[1.0,\"#f0f921\"]],\"diverging\":[[0,\"#8e0152\"],[0.1,\"#c51b7d\"],[0.2,\"#de77ae\"],[0.3,\"#f1b6da\"],[0.4,\"#fde0ef\"],[0.5,\"#f7f7f7\"],[0.6,\"#e6f5d0\"],[0.7,\"#b8e186\"],[0.8,\"#7fbc41\"],[0.9,\"#4d9221\"],[1,\"#276419\"]]},\"xaxis\":{\"gridcolor\":\"white\",\"linecolor\":\"white\",\"ticks\":\"\",\"title\":{\"standoff\":15},\"zerolinecolor\":\"white\",\"automargin\":true,\"zerolinewidth\":2},\"yaxis\":{\"gridcolor\":\"white\",\"linecolor\":\"white\",\"ticks\":\"\",\"title\":{\"standoff\":15},\"zerolinecolor\":\"white\",\"automargin\":true,\"zerolinewidth\":2},\"scene\":{\"xaxis\":{\"backgroundcolor\":\"#E5ECF6\",\"gridcolor\":\"white\",\"linecolor\":\"white\",\"showbackground\":true,\"ticks\":\"\",\"zerolinecolor\":\"white\",\"gridwidth\":2},\"yaxis\":{\"backgroundcolor\":\"#E5ECF6\",\"gridcolor\":\"white\",\"linecolor\":\"white\",\"showbackground\":true,\"ticks\":\"\",\"zerolinecolor\":\"white\",\"gridwidth\":2},\"zaxis\":{\"backgroundcolor\":\"#E5ECF6\",\"gridcolor\":\"white\",\"linecolor\":\"white\",\"showbackground\":true,\"ticks\":\"\",\"zerolinecolor\":\"white\",\"gridwidth\":2}},\"shapedefaults\":{\"line\":{\"color\":\"#2a3f5f\"}},\"annotationdefaults\":{\"arrowcolor\":\"#2a3f5f\",\"arrowhead\":0,\"arrowwidth\":1},\"geo\":{\"bgcolor\":\"white\",\"landcolor\":\"#E5ECF6\",\"subunitcolor\":\"white\",\"showland\":true,\"showlakes\":true,\"lakecolor\":\"white\"},\"title\":{\"x\":0.05},\"mapbox\":{\"style\":\"light\"}}},\"xaxis\":{\"anchor\":\"y\",\"domain\":[0.0,1.0],\"type\":\"date\"},\"yaxis\":{\"anchor\":\"x\",\"domain\":[0.0,1.0],\"title\":{\"text\":\"CODIGO\"},\"autorange\":\"reversed\"},\"legend\":{\"title\":{\"text\":\"CLASSIFICA\\u00c7\\u00c3O\"},\"tracegroupgap\":0},\"margin\":{\"t\":60},\"barmode\":\"overlay\"},                        {\"responsive\": true}                    ).then(function(){\n",
       "                            \n",
       "var gd = document.getElementById('153cd85e-cc65-48e5-a508-fb5b0a1ca30c');\n",
       "var x = new MutationObserver(function (mutations, observer) {{\n",
       "        var display = window.getComputedStyle(gd).display;\n",
       "        if (!display || display === 'none') {{\n",
       "            console.log([gd, 'removed!']);\n",
       "            Plotly.purge(gd);\n",
       "            observer.disconnect();\n",
       "        }}\n",
       "}});\n",
       "\n",
       "// Listen for the removal of the full notebook cells\n",
       "var notebookContainer = gd.closest('#notebook-container');\n",
       "if (notebookContainer) {{\n",
       "    x.observe(notebookContainer, {childList: true});\n",
       "}}\n",
       "\n",
       "// Listen for the clearing of the current output cell\n",
       "var outputEl = gd.closest('.output');\n",
       "if (outputEl) {{\n",
       "    x.observe(outputEl, {childList: true});\n",
       "}}\n",
       "\n",
       "                        })                };                });            </script>        </div>"
      ]
     },
     "metadata": {},
     "output_type": "display_data"
    }
   ],
   "source": [
    "fig = px.timeline(df_estacao_PE_inicio_e_fim, x_start=\"INÍCIO\", x_end=\"FIM\", y=\"CODIGO\", color=\"CLASSIFICAÇÃO\")\n",
    "fig.update_yaxes(autorange=\"reversed\")\n",
    "fig.show()"
   ]
  },
  {
   "cell_type": "markdown",
   "id": "af592d8e",
   "metadata": {},
   "source": [
    "### Analisando espacialmente a completude dos dados"
   ]
  },
  {
   "cell_type": "code",
   "execution_count": 155,
   "id": "39b39f20",
   "metadata": {},
   "outputs": [
    {
     "data": {
      "text/html": [
       "<div>\n",
       "<style scoped>\n",
       "    .dataframe tbody tr th:only-of-type {\n",
       "        vertical-align: middle;\n",
       "    }\n",
       "\n",
       "    .dataframe tbody tr th {\n",
       "        vertical-align: top;\n",
       "    }\n",
       "\n",
       "    .dataframe thead th {\n",
       "        text-align: right;\n",
       "    }\n",
       "</style>\n",
       "<table border=\"1\" class=\"dataframe\">\n",
       "  <thead>\n",
       "    <tr style=\"text-align: right;\">\n",
       "      <th></th>\n",
       "      <th>CODIGO</th>\n",
       "      <th>INÍCIO</th>\n",
       "      <th>FIM</th>\n",
       "      <th>PRECIPITACAO</th>\n",
       "      <th>CLASSIFICAÇÃO</th>\n",
       "      <th>Code</th>\n",
       "      <th>Latitude</th>\n",
       "      <th>Longitude</th>\n",
       "      <th>geometry</th>\n",
       "    </tr>\n",
       "  </thead>\n",
       "  <tbody>\n",
       "    <tr>\n",
       "      <th>0</th>\n",
       "      <td>00735037</td>\n",
       "      <td>1992-01-01</td>\n",
       "      <td>1994-12-31</td>\n",
       "      <td>0.0</td>\n",
       "      <td>INCOMPLETA</td>\n",
       "      <td>00735037</td>\n",
       "      <td>-7.9667</td>\n",
       "      <td>-35.8833</td>\n",
       "      <td>POINT (-35.88330 -7.96670)</td>\n",
       "    </tr>\n",
       "    <tr>\n",
       "      <th>1</th>\n",
       "      <td>00735038</td>\n",
       "      <td>1992-01-01</td>\n",
       "      <td>1993-02-28</td>\n",
       "      <td>0.0</td>\n",
       "      <td>INCOMPLETA</td>\n",
       "      <td>00735038</td>\n",
       "      <td>-7.5833</td>\n",
       "      <td>-35.2000</td>\n",
       "      <td>POINT (-35.20000 -7.58330)</td>\n",
       "    </tr>\n",
       "    <tr>\n",
       "      <th>2</th>\n",
       "      <td>00735041</td>\n",
       "      <td>1992-01-01</td>\n",
       "      <td>1993-05-31</td>\n",
       "      <td>0.0</td>\n",
       "      <td>INCOMPLETA</td>\n",
       "      <td>00735041</td>\n",
       "      <td>-7.8000</td>\n",
       "      <td>-35.5833</td>\n",
       "      <td>POINT (-35.58330 -7.80000)</td>\n",
       "    </tr>\n",
       "    <tr>\n",
       "      <th>3</th>\n",
       "      <td>00735045</td>\n",
       "      <td>1992-01-01</td>\n",
       "      <td>1993-01-31</td>\n",
       "      <td>0.0</td>\n",
       "      <td>INCOMPLETA</td>\n",
       "      <td>00735045</td>\n",
       "      <td>-7.7833</td>\n",
       "      <td>-35.3667</td>\n",
       "      <td>POINT (-35.36670 -7.78330)</td>\n",
       "    </tr>\n",
       "    <tr>\n",
       "      <th>4</th>\n",
       "      <td>00735048</td>\n",
       "      <td>1992-01-01</td>\n",
       "      <td>1993-02-28</td>\n",
       "      <td>0.0</td>\n",
       "      <td>INCOMPLETA</td>\n",
       "      <td>00735048</td>\n",
       "      <td>-7.5833</td>\n",
       "      <td>-35.1000</td>\n",
       "      <td>POINT (-35.10000 -7.58330)</td>\n",
       "    </tr>\n",
       "  </tbody>\n",
       "</table>\n",
       "</div>"
      ],
      "text/plain": [
       "     CODIGO      INÍCIO         FIM  PRECIPITACAO CLASSIFICAÇÃO      Code  \\\n",
       "0  00735037  1992-01-01  1994-12-31           0.0    INCOMPLETA  00735037   \n",
       "1  00735038  1992-01-01  1993-02-28           0.0    INCOMPLETA  00735038   \n",
       "2  00735041  1992-01-01  1993-05-31           0.0    INCOMPLETA  00735041   \n",
       "3  00735045  1992-01-01  1993-01-31           0.0    INCOMPLETA  00735045   \n",
       "4  00735048  1992-01-01  1993-02-28           0.0    INCOMPLETA  00735048   \n",
       "\n",
       "   Latitude  Longitude                    geometry  \n",
       "0   -7.9667   -35.8833  POINT (-35.88330 -7.96670)  \n",
       "1   -7.5833   -35.2000  POINT (-35.20000 -7.58330)  \n",
       "2   -7.8000   -35.5833  POINT (-35.58330 -7.80000)  \n",
       "3   -7.7833   -35.3667  POINT (-35.36670 -7.78330)  \n",
       "4   -7.5833   -35.1000  POINT (-35.10000 -7.58330)  "
      ]
     },
     "metadata": {},
     "output_type": "display_data"
    }
   ],
   "source": [
    "# --------- importando o shapefile das mesorregiões de Pernambuco\n",
    "mesorregioes_PE = gpd.read_file(r\"C:\\Users\\flavi\\OneDrive - Universidade Federal de Pernambuco\\Base de dados\\PE 2021\\PE_Mesorregioes_2021.shp\")\n",
    "\n",
    "# -------- Padronizando a coluna codigo\n",
    "df_estacao_PE_inicio_e_fim['CODIGO'] = '00'+df_estacao_PE_inicio_e_fim['CODIGO']\n",
    "\n",
    "# -------- Fazendo o merge com a latitude e longitude\n",
    "df_estacao_PE_inicio_e_fim = df_estacao_PE_inicio_e_fim.merge(estacoesPE[['Code', \"Latitude\", \"Longitude\" ]], how = 'inner', left_on = 'CODIGO', \n",
    "                                right_on = 'Code')\n",
    "\n",
    "\n",
    "# -------- Transformando as colunas latitude e longitude para o formato geometry\n",
    "df_estacao_PE_inicio_e_fim = gpd.GeoDataFrame(df_estacao_PE_inicio_e_fim,geometry=gpd.points_from_xy(\n",
    "    estacoesPE.Longitude,estacoesPE.Latitude))\n",
    "\n",
    "display(df_estacao_PE_inicio_e_fim.head())"
   ]
  },
  {
   "cell_type": "code",
   "execution_count": 151,
   "id": "16cd3012",
   "metadata": {},
   "outputs": [
    {
     "data": {
      "image/png": "[encoded data removed]",
      "text/plain": [
       "<Figure size 1000x1000 with 1 Axes>"
      ]
     },
     "metadata": {},
     "output_type": "display_data"
    }
   ],
   "source": [
    "# --------- Plotando estações meteorologicas\n",
    "fig, ax = plt.subplots(figsize=(10,10))\n",
    "base = mesorregioes_PE.plot(ax=ax, color = 'white', edgecolor = 'black')\n",
    "df_estacao_PE_inicio_e_fim.plot(ax=base, column = 'CLASSIFICAÇÃO', legend = True, cmap = 'Pastel2')       \n",
    "plt.show()"
   ]
  }
 ],
 "metadata": {
  "kernelspec": {
   "display_name": "Python 3 (ipykernel)",
   "language": "python",
   "name": "python3"
  },
  "language_info": {
   "codemirror_mode": {
    "name": "ipython",
    "version": 3
   },
   "file_extension": ".py",
   "mimetype": "text/x-python",
   "name": "python",
   "nbconvert_exporter": "python",
   "pygments_lexer": "ipython3",
   "version": "3.10.9"
  }
 },
 "nbformat": 4,
 "nbformat_minor": 5
}
